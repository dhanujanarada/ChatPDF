{
 "cells": [
  {
   "cell_type": "markdown",
   "id": "d346a3f1",
   "metadata": {},
   "source": [
    "# **Set Up**"
   ]
  },
  {
   "cell_type": "code",
   "execution_count": null,
   "id": "0db55215",
   "metadata": {
    "vscode": {
     "languageId": "powershell"
    }
   },
   "outputs": [],
   "source": [
    "#Set up in windows\n",
    "!scoop install poppler\n",
    "!scoop install tesseract\n",
    "!scoop install pandoc\n"
   ]
  },
  {
   "cell_type": "code",
   "execution_count": null,
   "id": "e5bf2ae0",
   "metadata": {},
   "outputs": [],
   "source": [
    "%pip install python-magic-bin\n"
   ]
  },
  {
   "cell_type": "code",
   "execution_count": null,
   "id": "019a4c6f",
   "metadata": {},
   "outputs": [],
   "source": [
    "%pip install -Uq \"unstructured[all-docs]\" pillow lxml pillow\n",
    "%pip install -Uq chromadb tiktoken\n",
    "%pip install -Uq langchain langchain-community langchain-openai langchain-groq\n",
    "%pip install -Uq python_dotenv"
   ]
  },
  {
   "cell_type": "code",
   "execution_count": null,
   "id": "71dc3cf4",
   "metadata": {},
   "outputs": [],
   "source": [
    "%pip show unstructured\n",
    "!pip show pillow\n",
    "!pip show lxml\n",
    "!pip show chromadb\n",
    "!pip show tiktoken\n",
    "!pip show langchain\n",
    "!pip show langchain-community\n",
    "!pip show langchain-openai\n",
    "!pip show langchain-groq\n",
    "!pip show python-dotenv"
   ]
  },
  {
   "cell_type": "code",
   "execution_count": null,
   "id": "452f893c",
   "metadata": {},
   "outputs": [],
   "source": [
    "import os\n",
    "from dotenv import load_dotenv\n",
    "\n",
    "# Load environment variables from .env file\n",
    "load_dotenv(\"keys.env\")\n",
    "\n",
    "# Keys for the services\n",
    "os.environ[\"OPENAI_API_KEY\"] = os.getenv(\"OPENAI_API_KEY\")\n",
    "os.environ[\"GROQ_API_KEY\"] = os.getenv(\"GROQ_API_KEY\")\n",
    "os.environ[\"LANGCHAIN_API_KEY\"] = os.getenv(\"LANGCHAIN_API_KEY\")\n",
    "os.environ[\"LANGCHAIN_TRACING_V2\"] = os.getenv(\"LANGCHAIN_TRACING_V2\")\n"
   ]
  },
  {
   "cell_type": "markdown",
   "id": "30dc58f4",
   "metadata": {},
   "source": [
    "# **Extract Data**"
   ]
  },
  {
   "cell_type": "code",
   "execution_count": null,
   "id": "771d4e87",
   "metadata": {},
   "outputs": [],
   "source": [
    "import os\n",
    "print(os.environ.get('TESSDATA_PREFIX'))"
   ]
  },
  {
   "cell_type": "code",
   "execution_count": null,
   "id": "c360dd0d",
   "metadata": {},
   "outputs": [],
   "source": [
    "import os\n",
    "os.environ[\"TESSDATA_PREFIX\"] = r\"C:\\Users\\Dhanuja\\scoop\\persist\\tesseract\\tessdata\""
   ]
  },
  {
   "cell_type": "code",
   "execution_count": null,
   "id": "70a4efbc",
   "metadata": {},
   "outputs": [],
   "source": [
    "from unstructured.partition.pdf import partition_pdf\n",
    "\n",
    "output_dir = \"./content\"\n",
    "file_path = output_dir + \"./garuda1303856.pdf\"\n",
    "\n",
    "chunks = partition_pdf(\n",
    "    filename=file_path,\n",
    "    infer_table_structure=True,\n",
    "    strategy=\"hi_res\",\n",
    "    extract_image_block_types=[\"Image\"],\n",
    "    extract_image_block_to_payload=True,\n",
    "    chunking_strategy=\"by_title\",\n",
    "\n",
    "    max_characters=10000,                \n",
    "    combine_text_under_n_chars=2000,       \n",
    "    new_after_n_chars=6000,\n",
    ")\n",
    "\n"
   ]
  }
 ],
 "metadata": {
  "language_info": {
   "name": "python"
  }
 },
 "nbformat": 4,
 "nbformat_minor": 5
}
